{
  "cells": [
    {
      "cell_type": "markdown",
      "metadata": {},
      "source": [
        "# Azure SQL Database for Avatar Demo"
      ]
    },
    {
      "cell_type": "markdown",
      "metadata": {
        "nteract": {
          "transient": {
            "deleting": false
          }
        }
      },
      "source": [
        "## Setup"
      ]
    },
    {
      "cell_type": "markdown",
      "metadata": {
        "nteract": {
          "transient": {
            "deleting": false
          }
        }
      },
      "source": [
        "You need to have the following settings for your Azure resources defined in the `local.settings.json` file in the __root__ folder to populate the demo content."
      ]
    },
    {
      "cell_type": "code",
      "execution_count": null,
      "metadata": {},
      "outputs": [],
      "source": [
        "# Install the required libraries\n",
        "%pip install pyodbc\n",
        "%pip install pandas\n",
        "%pip install requests"
      ]
    },
    {
      "cell_type": "code",
      "execution_count": null,
      "metadata": {},
      "outputs": [],
      "source": [
        "import os\n",
        "import json  \n",
        "import pandas as pd\n",
        "\n",
        "import pyodbc\n",
        "import requests\n",
        "import inspect"
      ]
    },
    {
      "cell_type": "code",
      "execution_count": null,
      "metadata": {
        "gather": {
          "logged": 1700038375485
        },
        "jupyter": {
          "outputs_hidden": false,
          "source_hidden": false
        },
        "nteract": {
          "transient": {
            "deleting": false
          }
        }
      },
      "outputs": [],
      "source": [
        "# Load JSON file\n",
        "with open('./local.settings.json', 'r') as file:\n",
        "    data = json.load(file)\n",
        "\n",
        "# Blob SAS URL for Azure Storage Account\n",
        "blob_sas_url = data[\"Values\"][\"BLOB_SAS_URL\"]\n",
        "\n",
        "# Azure SQL Database\n",
        "sql_db_server = data[\"Values\"][\"SQL_DB_SERVER\"]\n",
        "sql_db_user = data[\"Values\"][\"SQL_DB_USER\"]\n",
        "sql_db_password = data[\"Values\"][\"SQL_DB_PASSWORD\"]\n",
        "sql_db_name = data[\"Values\"][\"SQL_DB_NAME\"]"
      ]
    },
    {
      "cell_type": "markdown",
      "metadata": {},
      "source": [
        "## Create Azure SQL Database\n",
        "Now let's create a small Azure SQL database with customer, product and order data using the SQL server you deployed in the previous step."
      ]
    },
    {
      "cell_type": "code",
      "execution_count": null,
      "metadata": {
        "gather": {
          "logged": 1699873175635
        }
      },
      "outputs": [],
      "source": [
        "# Connection Strings\n",
        "server_connection_string = f\"Driver={{ODBC Driver 17 for SQL Server}};Server=tcp:{sql_db_server},1433;Uid={sql_db_user};Pwd={sql_db_password};Encrypt=yes;TrustServerCertificate=no;Connection Timeout=30;\"\n",
        "database_connection_string = server_connection_string + f\"Database={sql_db_name};\""
      ]
    },
    {
      "cell_type": "code",
      "execution_count": null,
      "metadata": {
        "gather": {
          "logged": 1699873175773
        }
      },
      "outputs": [],
      "source": [
        "import random\n",
        "\n",
        "customers = [\n",
        "    {\"name\": \"John Doe\", \"account_id\": 1000, \"loyalty_points\" : random.randint(400, 800)},\n",
        "    {\"name\": \"Jane Smith\", \"account_id\": 1001, \"loyalty_points\" : random.randint(400, 800)},\n",
        "    {\"name\": \"Alice Johnson\", \"account_id\": 1002, \"loyalty_points\" : random.randint(400, 800)},\n",
        "    {\"name\": \"Bob Wilson\", \"account_id\": 1003, \"loyalty_points\" : random.randint(400, 800)},\n",
        "    {\"name\": \"Charlie Brown\", \"account_id\": 1004, \"loyalty_points\" : random.randint(400, 800)},\n",
        "    {\"name\": \"Eve Adams\", \"account_id\": 1005, \"loyalty_points\" : random.randint(400, 800)},\n",
        "    {\"name\": \"Frank Castle\", \"account_id\": 1006, \"loyalty_points\" : random.randint(400, 800)},\n",
        "    {\"name\": \"Grace Lee\", \"account_id\": 1007, \"loyalty_points\" : random.randint(400, 800)},\n",
        "    {\"name\": \"Hannah Montan\", \"account_id\": 1008, \"loyalty_points\" : random.randint(400, 800)},\n",
        "    {\"name\": \"Ian Somerhalder\", \"account_id\": 1009, \"loyalty_points\" : random.randint(400, 800)},\n",
        "    {\"name\": \"Peter Mick\", \"account_id\": 1010, \"loyalty_points\" : random.randint(400, 800)},\n",
        "]\n",
        "\n",
        "products = [\n",
        "    {\"id\": 1000, \"name\": \"Elysian Voyager\", \"stock\": random.randint(0,50)},\n",
        "    {\"id\": 1001, \"name\": \"Terra Roamer\", \"stock\": random.randint(0,50)},\n",
        "    {\"id\": 1002, \"name\": \"Cardinal Pathfinder\", \"stock\": random.randint(0,50)},\n",
        "    {\"id\": 1003, \"name\": \"Slumber Drifter\", \"stock\": random.randint(0,50)},\n",
        "    {\"id\": 1004, \"name\": \"Blaze Adventurer\", \"stock\": random.randint(0,50)},\n",
        "    {\"id\": 1005, \"name\": \"BiteShield Pro\", \"stock\": random.randint(0,50)},\n",
        "    {\"id\": 1006, \"name\": \"Feast Frontier\", \"stock\": random.randint(0,50)},\n",
        "    {\"id\": 1007, \"name\": \"Summit Stride\", \"stock\": random.randint(0,50)},\n",
        "    {\"id\": 1008, \"name\": \"Rugged Ranger\",\"stock\": random.randint(0,50)},\n",
        "    {\"id\": 1100, \"name\": \"Match Master\", \"stock\": random.randint(0,50)},\n",
        "    {\"id\": 1101, \"name\": \"Court Queen\", \"stock\": random.randint(0,50)},\n",
        "    {\"id\": 1102, \"name\": \"Junior Ace\", \"stock\": random.randint(0,50)},\n",
        "    {\"id\": 1103, \"name\": \"ServeMaster Pro\", \"stock\": random.randint(0,50)},\n",
        "    {\"id\": 1104, \"name\": \"Court Commander\", \"stock\": random.randint(0,50)},\n",
        "    {\"id\": 1105, \"name\": \"StringMaster Elite\", \"stock\": random.randint(0,50)},\n",
        "    {\"id\": 1106, \"name\": \"Court Conqueror\", \"stock\": random.randint(0,50)},\n",
        "    {\"id\": 1107, \"name\": \"AceMaster 3000\", \"stock\": random.randint(0,50)},\n",
        "    {\"id\": 1108, \"name\": \"Ace Attire\", \"stock\": random.randint(0,50)},\n",
        "    {\"id\": 1109, \"name\": \"Serve & Style\", \"stock\": random.randint(0,50)},\n",
        "]\n",
        "orders = [\n",
        "    {\"order_id\": 1000, \"product_id\": 1001, \"days_to_delivery\": random.randint(3,15), \"account_id\": 1000},\n",
        "    {\"order_id\": 1001, \"product_id\": 1001, \"days_to_delivery\": random.randint(3,15), \"account_id\": 1001},\n",
        "    {\"order_id\": 1002, \"product_id\": 1002, \"days_to_delivery\": random.randint(3,15), \"account_id\": 1002},\n",
        "    {\"order_id\": 1003, \"product_id\": 1003, \"days_to_delivery\": random.randint(3,15), \"account_id\": 1003},\n",
        "    {\"order_id\": 1004, \"product_id\": 1004, \"days_to_delivery\": random.randint(3,15), \"account_id\": 1004},\n",
        "    {\"order_id\": 1005, \"product_id\": 1005, \"days_to_delivery\": random.randint(3,15), \"account_id\": 1005},\n",
        "    {\"order_id\": 1006, \"product_id\": 1006, \"days_to_delivery\": random.randint(3,15), \"account_id\": 1006},\n",
        "    {\"order_id\": 1007, \"product_id\": 1007, \"days_to_delivery\": random.randint(3,15), \"account_id\": 1007},\n",
        "    {\"order_id\": 1008, \"product_id\": 1008, \"days_to_delivery\": random.randint(3,15), \"account_id\": 1008},\n",
        "    {\"order_id\": 1010, \"product_id\": 1000, \"days_to_delivery\": random.randint(3,15), \"account_id\": 1009},\n",
        "    {\"order_id\": 1012, \"product_id\": 1101, \"days_to_delivery\": random.randint(3,15), \"account_id\": 1001},\n",
        "    {\"order_id\": 1013, \"product_id\": 1102, \"days_to_delivery\": random.randint(3,15), \"account_id\": 1002},\n",
        "    {\"order_id\": 1014, \"product_id\": 1103, \"days_to_delivery\": random.randint(3,15), \"account_id\": 1003},\n",
        "    {\"order_id\": 1015, \"product_id\": 1104, \"days_to_delivery\": random.randint(3,15), \"account_id\": 1004},\n",
        "    {\"order_id\": 1016, \"product_id\": 1105, \"days_to_delivery\": random.randint(3,15), \"account_id\": 1005},\n",
        "    {\"order_id\": 1017, \"product_id\": 1106, \"days_to_delivery\": random.randint(3,15), \"account_id\": 1006},\n",
        "    {\"order_id\": 1018, \"product_id\": 1107, \"days_to_delivery\": random.randint(3,15), \"account_id\": 1007},\n",
        "    {\"order_id\": 1019, \"product_id\": 1108, \"days_to_delivery\": random.randint(3,15), \"account_id\": 1008},\n",
        "]"
      ]
    },
    {
      "cell_type": "code",
      "execution_count": null,
      "metadata": {
        "gather": {
          "logged": 1699873175920
        }
      },
      "outputs": [],
      "source": [
        "# Test connection to the SQL Server\n",
        "\n",
        "try:\n",
        "    # Try to establish a connection\n",
        "    conn = pyodbc.connect(server_connection_string)\n",
        "    \n",
        "    # If connection is successful, print a message and close the connection\n",
        "    print(\"Connection to the server/database was successful!\")\n",
        "    conn.close()\n",
        "    \n",
        "except pyodbc.Error as ex:\n",
        "    # Catch any connection errors and print them\n",
        "    sqlstate = ex.args[0] if len(ex.args) > 0 else None\n",
        "    message = ex.args[1] if len(ex.args) > 1 else None\n",
        "    print(f\"Failed to connect to the server/database. SQLSTATE: {sqlstate}, Message: {message}\")"
      ]
    },
    {
      "cell_type": "code",
      "execution_count": null,
      "metadata": {
        "gather": {
          "logged": 1699873247080
        }
      },
      "outputs": [],
      "source": [
        "# SET TO TRUE ONLY TO REBUILD DATABASE BASED ON ABOVE SAMPLE DATA\n",
        "rebuild_database = True\n",
        "\n",
        "if rebuild_database:\n",
        "\n",
        "    # Connect to the server without specifying a database\n",
        "    server_conn = pyodbc.connect(server_connection_string, autocommit=True)\n",
        "    server_cursor = server_conn.cursor()\n",
        "\n",
        "    # Drop the database if it exists\n",
        "    server_cursor.execute(f\"IF EXISTS(SELECT * FROM sys.databases WHERE name='{sql_db_name}') DROP DATABASE {sql_db_name}\")\n",
        "\n",
        "    # Recreate the database\n",
        "    server_cursor.execute(f\"CREATE DATABASE {sql_db_name}\")\n",
        "    server_cursor.close()\n",
        "    server_conn.close()\n",
        "\n",
        "    # Now, connect to the newly created database\n",
        "    conn = pyodbc.connect(database_connection_string)\n",
        "    cursor = conn.cursor()\n",
        "\n",
        "    # Ensure you're using the existing database\n",
        "    cursor.execute(f\"USE {sql_db_name}\")\n",
        "\n",
        "    # Create tables and populate them\n",
        "    cursor.execute(\"\"\"\n",
        "    CREATE TABLE Customers (\n",
        "        name VARCHAR(255),\n",
        "        account_id INT PRIMARY KEY,\n",
        "        loyalty_points INT,\n",
        "    )\n",
        "    \"\"\")\n",
        "\n",
        "    for customer in customers:\n",
        "        cursor.execute(\"INSERT INTO Customers VALUES (?, ?, ?)\", \n",
        "                    (customer[\"name\"], customer[\"account_id\"], customer[\"loyalty_points\"]))\n",
        "\n",
        "    cursor.execute(\"\"\"\n",
        "    CREATE TABLE Products (\n",
        "        id INT PRIMARY KEY,\n",
        "        name VARCHAR(255),\n",
        "        stock INT\n",
        "    )\n",
        "    \"\"\")\n",
        "\n",
        "    for product in products:\n",
        "        cursor.execute(\"INSERT INTO Products VALUES (?, ?, ?)\", \n",
        "                    (product[\"id\"], product[\"name\"], product[\"stock\"]))\n",
        "\n",
        "    cursor.execute(\"\"\"\n",
        "    CREATE TABLE Orders (\n",
        "        order_id INT PRIMARY KEY,\n",
        "        product_id INT,\n",
        "        days_to_delivery INT,\n",
        "        account_id INT,\n",
        "        FOREIGN KEY(product_id) REFERENCES Products(id),\n",
        "        FOREIGN KEY(account_id) REFERENCES Customers(account_id)\n",
        "    )\n",
        "    \"\"\")\n",
        "\n",
        "    for order in orders:\n",
        "        cursor.execute(\"INSERT INTO Orders VALUES (?, ?, ?, ?)\", \n",
        "                    (order[\"order_id\"], order[\"product_id\"], order[\"days_to_delivery\"], order[\"account_id\"]))\n",
        "\n",
        "    conn.commit()\n",
        "\n",
        "    #Verify database tables and columns\n",
        "    def fetch_schema_info():\n",
        "        cursor.execute(\"\"\"\n",
        "            SELECT t.TABLE_NAME, c.COLUMN_NAME, c.DATA_TYPE \n",
        "            FROM INFORMATION_SCHEMA.TABLES AS t\n",
        "            JOIN INFORMATION_SCHEMA.COLUMNS AS c ON t.TABLE_NAME = c.TABLE_NAME\n",
        "            WHERE t.TABLE_SCHEMA = 'dbo'  -- assuming you're using the default schema\n",
        "            ORDER BY t.TABLE_NAME, c.ORDINAL_POSITION\n",
        "        \"\"\")\n",
        "        \n",
        "        tables = {}\n",
        "        for row in cursor.fetchall():\n",
        "            table_name = row[0]\n",
        "            column_name = row[1]\n",
        "            data_type = row[2]\n",
        "            \n",
        "            if table_name not in tables:\n",
        "                tables[table_name] = []\n",
        "            \n",
        "            tables[table_name].append(f\"{column_name} ({data_type})\")\n",
        "        \n",
        "        return tables\n",
        "\n",
        "    schema_info = fetch_schema_info()\n",
        "\n",
        "    # Print the schema info in a user-friendly format\n",
        "    for table, columns in schema_info.items():\n",
        "        print(f\"Table: {table}\")\n",
        "        for col in columns:\n",
        "            print(f\"    {col}\")\n",
        "        print()\n",
        "\n",
        "    # Close connections\n",
        "    cursor.close()\n",
        "    conn.close()"
      ]
    },
    {
      "cell_type": "code",
      "execution_count": null,
      "metadata": {},
      "outputs": [],
      "source": []
    }
  ],
  "metadata": {
    "kernel_info": {
      "name": "python310-sdkv2"
    },
    "kernelspec": {
      "display_name": "Python 3",
      "language": "python",
      "name": "python3"
    },
    "language_info": {
      "codemirror_mode": {
        "name": "ipython",
        "version": 3
      },
      "file_extension": ".py",
      "mimetype": "text/x-python",
      "name": "python",
      "nbconvert_exporter": "python",
      "pygments_lexer": "ipython3",
      "version": "3.12.3"
    },
    "microsoft": {
      "host": {
        "AzureML": {
          "notebookHasBeenCompleted": true
        }
      },
      "ms_spell_check": {
        "ms_spell_check_language": "en"
      }
    },
    "nteract": {
      "version": "nteract-front-end@1.0.0"
    },
    "orig_nbformat": 4
  },
  "nbformat": 4,
  "nbformat_minor": 2
}
